{
 "cells": [
  {
   "cell_type": "markdown",
   "metadata": {},
   "source": [
    "# Ciência dos Dados - 2°Semestre - Engenharia\n",
    "#### Carlos Eduardo Dip\n",
    "\n",
    "## Tema: Desenvolvimento econômico de países dentro e fora do MercoSul\n",
    "\n",
    "#### Hipótese:\n",
    "Países que fazem parte da união aduaneira devem ter mercados em maior crescimento do que os que não estão, como sugerido na pesquisa \"Os impactos do Mercosul sobre o comérico: Uma abordagem gravitacional\" de Bruno Ferreira Cordeiro, da USP.  \n",
    "< https://www.teses.usp.br/teses/disponiveis/12/12138/tde-06092016-144804/publico/CorrigidaBruno.pdf > Acesso em 26/8/2019 às 18h40min.\n",
    "\n",
    "#### Mecanismo:\n",
    "Espera-se que, devido ao propósito da União Aduaneira, o comércio entre países participantes seja ampliado, ou menos deixe de ser reduzido, aumentando a competitividade com produtos importados de páises externos à união, através principalmente de reduções tributárias. Isso, por sua vez impulsionaria o crescimento economico dos países envolvidos, e também os protegeria de recessões.\n",
    "\n",
    "Os dados analisados foram retirados do banco de dados https://www.gapminder.org/data/."
   ]
  },
  {
   "cell_type": "markdown",
   "metadata": {},
   "source": [
    "# O Tratado de Kyoto (Protocolo de Kyoto)\n",
    "\n",
    "## Resumo:\n",
    "Países se comprometeram a reduzir emissão de gases. O Protocolo de Kyoto é um acordo internacional entre os países integrantes da Organização das Nações Unidas (ONU), firmado com o objetivo de se reduzir a emissão de gases causadores do efeito estufa e o consequente aquecimento global."
   ]
  },
  {
   "cell_type": "code",
   "execution_count": 26,
   "metadata": {
    "scrolled": true
   },
   "outputs": [],
   "source": [
    "import pandas as pd\n",
    "import numpy as np\n",
    "import matplotlib.pyplot as plt\n",
    "\n",
    "data_GDP_capita = pd.read_excel('Data/gdp.xlsx').rename({'country':'Country'},axis = 1 ).set_index('Country')\n",
    "data_income = pd.read_excel('Data/income.xlsx').rename({'country':'Country'},axis = 1 ).set_index('Country')\n",
    "data_all = data_income.join(data_GDP_capita, how = 'left', rsuffix = \"_GDP\", lsuffix = '_income')"
   ]
  },
  {
   "cell_type": "code",
   "execution_count": 27,
   "metadata": {},
   "outputs": [],
   "source": [
    "### Países que não estão no tratado:\n",
    "Mercosul = [\"Brazil\",\n",
    "            \"Argentina\",\n",
    "            \"Venezuela\",\n",
    "            \"Uruguay\",\n",
    "            \"Paraguay\"]\n",
    "\n",
    "Non_Mercosul = [\"Bolivia\",\n",
    "                \"Colombia\",\n",
    "                \"Chile\",\n",
    "                \"Ecuador\",\n",
    "                \"Peru\"]\n",
    "all_south = Non_Mercosul+Mercosul\n",
    "\n",
    "bool_series = [country in all_south for country in data_all.index.tolist()]\n",
    "data_all = data_all.loc[bool_series]\n",
    "data_all[\"Mercosul\"] = [int(country in Mercosul) for country in data_all.index.tolist()]"
   ]
  },
  {
   "cell_type": "markdown",
   "metadata": {},
   "source": [
    "## Análise exploratória inicial\n",
    "\n",
    "#### Primeira visualização dos dados \n",
    "Aqui, constroem-se gráficos para facilitar a visualização da informação disponível, com intuito de conhecer melhor o comportamento das variáveis envolvidas, e dos dados em geral."
   ]
  },
  {
   "cell_type": "code",
   "execution_count": null,
   "metadata": {},
   "outputs": [],
   "source": []
  },
  {
   "cell_type": "code",
   "execution_count": null,
   "metadata": {},
   "outputs": [],
   "source": []
  },
  {
   "cell_type": "code",
   "execution_count": null,
   "metadata": {},
   "outputs": [],
   "source": []
  },
  {
   "cell_type": "code",
   "execution_count": null,
   "metadata": {},
   "outputs": [],
   "source": []
  },
  {
   "cell_type": "code",
   "execution_count": null,
   "metadata": {},
   "outputs": [],
   "source": [
    "\n"
   ]
  },
  {
   "cell_type": "code",
   "execution_count": null,
   "metadata": {},
   "outputs": [],
   "source": []
  },
  {
   "cell_type": "code",
   "execution_count": null,
   "metadata": {},
   "outputs": [],
   "source": []
  },
  {
   "cell_type": "code",
   "execution_count": null,
   "metadata": {},
   "outputs": [],
   "source": []
  }
 ],
 "metadata": {
  "kernelspec": {
   "display_name": "Python 3",
   "language": "python",
   "name": "python3"
  },
  "language_info": {
   "codemirror_mode": {
    "name": "ipython",
    "version": 3
   },
   "file_extension": ".py",
   "mimetype": "text/x-python",
   "name": "python",
   "nbconvert_exporter": "python",
   "pygments_lexer": "ipython3",
   "version": "3.7.3"
  }
 },
 "nbformat": 4,
 "nbformat_minor": 2
}
